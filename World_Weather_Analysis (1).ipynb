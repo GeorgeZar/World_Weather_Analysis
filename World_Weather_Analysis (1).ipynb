{
 "cells": [
  {
   "cell_type": "code",
   "execution_count": null,
   "id": "9c2adcd3",
   "metadata": {},
   "outputs": [],
   "source": [
    "import pandas as pd\n",
    "from citipy import citipy"
   ]
  },
  {
   "cell_type": "code",
   "execution_count": null,
   "id": "d945ba87",
   "metadata": {},
   "outputs": [],
   "source": [
    "import numpy as np\n",
    "import pandas as pd"
   ]
  },
  {
   "cell_type": "code",
   "execution_count": null,
   "id": "98b3a86b",
   "metadata": {},
   "outputs": [],
   "source": [
    "import requests\n",
    "\n",
    "import json\n",
    "\n",
    "import seaborn as sns\n",
    "\n",
    "import matplotlib.pyplot as plt"
   ]
  },
  {
   "cell_type": "code",
   "execution_count": null,
   "id": "0b15d3ff",
   "metadata": {},
   "outputs": [],
   "source": [
    "%matplotlib inline\n",
    "\n",
    "latitude = []\n",
    "\n",
    "longitude = []"
   ]
  },
  {
   "cell_type": "code",
   "execution_count": null,
   "id": "145b40d0",
   "metadata": {},
   "outputs": [],
   "source": [
    "for each_lat in np.random.randint(-90,90,2000):\n",
    "\n",
    "    latitude.append(each_lat)"
   ]
  },
  {
   "cell_type": "code",
   "execution_count": null,
   "id": "c4145e84",
   "metadata": {},
   "outputs": [],
   "source": [
    "for each_lon in np.random.randint(-180,180,2000):\n",
    "\n",
    "    longitude.append(each_lon)"
   ]
  },
  {
   "cell_type": "code",
   "execution_count": null,
   "id": "bc8d9049",
   "metadata": {},
   "outputs": [],
   "source": [
    "#Create and variable called latitude_and_Longitude and store all random latitudes and longitudes generated\n",
    "\n",
    "latitude_and_Longitude = tuple(zip(latitude,longitude)"
   ]
  },
  {
   "cell_type": "code",
   "execution_count": null,
   "id": "f882a051",
   "metadata": {},
   "outputs": [],
   "source": [
    "# use citipy library to find the nearest city for all latitudes and longitudes\n",
    "\n",
    "cities = []\n",
    "\n",
    "country = []"
   ]
  },
  {
   "cell_type": "code",
   "execution_count": null,
   "id": "785685c0",
   "metadata": {},
   "outputs": [],
   "source": [
    "for lat, lon in latitude_and_Longitude:\n",
    "\n",
    "    city = citipy.nearest_city(lat, lon)"
   ]
  },
  {
   "cell_type": "code",
   "execution_count": null,
   "id": "74b982d6",
   "metadata": {},
   "outputs": [],
   "source": [
    "cityName = city.city_name"
   ]
  },
  {
   "cell_type": "code",
   "execution_count": null,
   "id": "fdaea94b",
   "metadata": {},
   "outputs": [],
   "source": [
    "cities.append(cityName)"
   ]
  },
  {
   "cell_type": "code",
   "execution_count": null,
   "id": "89846753",
   "metadata": {},
   "outputs": [],
   "source": [
    "country.append(city.country_code)"
   ]
  },
  {
   "cell_type": "code",
   "execution_count": null,
   "id": "025c0a45",
   "metadata": {},
   "outputs": [],
   "source": [
    "#Print out how many the different cities were generated\n",
    "\n",
    "print('The above script has generated {} different cities using random numbers.'.format(len(set(cities))))"
   ]
  },
  {
   "cell_type": "code",
   "execution_count": null,
   "id": "2db8c39b",
   "metadata": {},
   "outputs": [],
   "source": [
    "#create a dataframe to store all the cities and countries generated with citipy\n",
    "\n",
    "df_countries = pd.DataFrame({'Cities': cities,\n",
    "\n",
    "              'Country': country})"
   ]
  },
  {
   "cell_type": "code",
   "execution_count": null,
   "id": "c6308e00",
   "metadata": {},
   "outputs": [],
   "source": [
    "#add additional blank columns to store information from openweathermap api\n",
    "\n",
    "\n",
    "df_countries['Latitude'] = ''\n",
    "\n",
    "df_countries['Longitude'] = ''\n",
    "\n",
    "df_countries['Temperature (F)'] = ''\n",
    "\n",
    "df_countries['Humidity (%)'] = ''\n",
    "\n",
    "df_countries['Cloudiness (%)'] = ''\n",
    "\n",
    "df_countries['Wind Speed (mph)'] = ''"
   ]
  },
  {
   "cell_type": "code",
   "execution_count": null,
   "id": "82c66f90",
   "metadata": {},
   "outputs": [],
   "source": [
    "#droping the duplicate columns cities\n",
    "\n",
    "df_countries = df_countries.drop_duplicates(subset=['Cities'],keep='first')"
   ]
  },
  {
   "cell_type": "code",
   "execution_count": null,
   "id": "339335c9",
   "metadata": {},
   "outputs": [],
   "source": [
    "#api key used with openweathermap api\n",
    "\n",
    "\n",
    "api_key = \"5be78fade1727ace968b5ab363d997bd\""
   ]
  },
  {
   "cell_type": "code",
   "execution_count": null,
   "id": "caedaf59",
   "metadata": {},
   "outputs": [],
   "source": [
    "# loop through all rows and fill in values for blank columns in dataframe\n",
    "\n",
    "\n",
    "for index, row in df_countries.iterrows():\n",
    "\n",
    "    city_name = row['Cities']\n",
    "\n",
    "Country_id = row['Country']"
   ]
  },
  {
   "cell_type": "code",
   "execution_count": null,
   "id": "8bc54455",
   "metadata": {},
   "outputs": [],
   "source": [
    "# api call for all Cities\n",
    "\n",
    "api_url = \"http://api.openweathermap.org/data/2.5/forecast\" \\\n",
    "\n",
    "          \"?q={},{}&units=IMPERIAL&mode=json&APPID={}\".format(city_name, Country_id, api_key)\n",
    "          \n",
    "          country_info = requests.get(api_url).json()"
   ]
  },
  {
   "cell_type": "code",
   "execution_count": null,
   "id": "47c685a9",
   "metadata": {},
   "outputs": [],
   "source": [
    "# print all api url's for each city\n",
    "\n",
    "print(api_url)"
   ]
  },
  {
   "cell_type": "code",
   "execution_count": null,
   "id": "c2bbb955",
   "metadata": {},
   "outputs": [],
   "source": [
    "try:\n",
    "\n",
    "    df_countries.set_value(index, 'Latitude', country_info['city']['coord']['lat'])\n",
    "\n",
    "    df_countries.set_value(index, 'Longitude', country_info['city']['coord']['lon'])\n",
    "\n",
    "    df_countries.set_value(index, 'Temperature (F)', country_info['list'][0]['main']['temp'])\n",
    "\n",
    "    df_countries.set_value(index, 'Humidity (%)', country_info['list'][0]['main']['humidity'])\n",
    "\n",
    "    df_countries.set_value(index, 'Cloudiness (%)', country_info['list'][0]['clouds']['all'])\n",
    "\n",
    "    df_countries.set_value(index, 'Wind Speed (mph)', country_info['list'][0]['wind']['speed'])"
   ]
  },
  {
   "cell_type": "code",
   "execution_count": null,
   "id": "91196d02",
   "metadata": {},
   "outputs": [],
   "source": [
    "except KeyError:\n",
    "\n",
    "    df_countries.set_value(index, 'Latitude', np.nan)\n",
    "\n",
    "    df_countries.set_value(index, 'Longitude', np.nan)\n",
    "\n",
    "    df_countries.set_value(index, 'Temperature (F)', np.nan)\n",
    "\n",
    "    df_countries.set_value(index, 'Humidity (%)', np.nan)\n",
    "\n",
    "    df_countries.set_value(index, 'Cloudiness (%)', np.nan)\n",
    "\n",
    "    df_countries.set_value(index, 'Wind Speed (mph)', np.nan)"
   ]
  },
  {
   "cell_type": "code",
   "execution_count": null,
   "id": "5bdb4422",
   "metadata": {},
   "outputs": [],
   "source": [
    "##change all data recieved from openweathermap api to numerical data\n",
    "\n",
    "\n",
    "\n",
    "    df_countries['Latitude'] = pd.to_numeric(df_countries['Latitude'])\n",
    "\n",
    "    df_countries['Longitude'] = pd.to_numeric(df_countries['Longitude'])\n",
    "\n",
    "    df_countries['Temperature (F)'] = pd.to_numeric(df_countries['Temperature (F)'])\n",
    "\n",
    "    df_countries['Humidity (%)'] = pd.to_numeric(df_countries['Humidity (%)'])\n",
    "\n",
    "    df_countries['Cloudiness (%)'] = pd.to_numeric(df_countries['Cloudiness (%)'])\n",
    "\n",
    "    df_countries['Wind Speed (mph)'] = pd.to_numeric(df_countries['Wind Speed (mph)'])"
   ]
  },
  {
   "cell_type": "code",
   "execution_count": null,
   "id": "d0b1d498",
   "metadata": {},
   "outputs": [],
   "source": [
    "print('Missing weather information...skip')\n",
    "\n",
    "    # display dataframe df_countries after openweathermap api calls\n",
    "\n",
    "    df_countries.head()\n",
    "\n",
    "    .dataframe thead th {\n",
    "\n",
    "        text - align: left;\n",
    "\n",
    "    }\n",
    "\n",
    "\n",
    "\n",
    "    .dataframe tbody tr th{\n",
    "\n",
    "    vertical - align: top;\n",
    "\n",
    "    }\n",
    "\n",
    "length_of_original_DF = len(df_countries)\n",
    "\n",
    "length_after_dropna = len(df_countries.dropna)\n",
    "missing_weather_info = length_of_original_DF - length_after_dropna"
   ]
  },
  {
   "cell_type": "code",
   "execution_count": null,
   "id": "0ca56543",
   "metadata": {},
   "outputs": [],
   "source": [
    "print('For the following cities associated with this dataframe, {} cities did not contain weather\\\n",
    "\n",
    " information. These cities\\t will be dropped from this dataframe.'.format(missing_weather_info))"
   ]
  },
  {
   "cell_type": "code",
   "execution_count": null,
   "id": "f2c2c22c",
   "metadata": {},
   "outputs": [],
   "source": [
    "print('\\n')"
   ]
  },
  {
   "cell_type": "code",
   "execution_count": null,
   "id": "2f5b8ab1",
   "metadata": {},
   "outputs": [],
   "source": [
    "print(\"The dataframe used for plotting contains weather information for {} different cities. \"\\\n",
    "\n",
    "      .format(len(df_countries.dropna())))\n",
    "\n",
    "    df_countries = df_countries.dropna()\n",
    "\n",
    "    df_countries.to_csv(path_or_buf='df_countries.csv')\n",
    "\n",
    "    df_countries_table = df_countries.copy()\n",
    "\n",
    "    df_countries_table['Latitude'] = pd.qcut(df_countries['Latitude'], 11, precision=0)\n",
    "\n",
    "    cm = sns.light_palette('green', as_cmap=True)\n",
    "\n",
    "\n",
    "\n",
    "    df_countries_table.groupby(['Latitude'])['Temperature (F)'].mean().reset_index().style.background_gradient(cmap=cm)"
   ]
  },
  {
   "cell_type": "code",
   "execution_count": null,
   "id": "1c745632",
   "metadata": {},
   "outputs": [],
   "source": [
    "# plot the following plots Temperature (F) vs. Lat, Humidity (%) vs. Lat, Cloudiness (%) vs. Lat, and\n",
    "\n",
    "    # Wind Speed (mph) vs. Lat\n",
    "\n",
    "\n",
    "\n",
    "    plt.style.use('dark_background')\n",
    "\n",
    "\n",
    "\n",
    "    plt.figure(figsize=(18, 5))\n",
    "\n",
    "    plt.scatter(df_countries['Latitude'], df_countries['Temperature (F)'], color='red', s=20)\n",
    "\n",
    "    plt.title('Temperature (F) vs. Latitude', fontsize=(18));\n",
    "\n",
    "    plt.xlim(-90, 90)\n",
    "\n",
    "    plt.ylabel('Temperature (F)', fontsize=(15));\n",
    "\n",
    "    plt.xlabel('Latitude', fontsize=(15));\n",
    "\n",
    "df_countries_table.groupby(['Latitude'])['Humidity (%)'].mean().reset_index().style.background_gradient(cmap=cm)"
   ]
  },
  {
   "cell_type": "code",
   "execution_count": null,
   "id": "3d1db9c9",
   "metadata": {},
   "outputs": [],
   "source": [
    "plt.figure(figsize=(18, 5))\n",
    "\n",
    "    plt.scatter(df_countries['Latitude'], df_countries['Cloudiness (%)'], color='w', s=20);\n",
    "\n",
    "    plt.title('Cloudiness (%) vs. Latitude', fontsize=(18));\n",
    "\n",
    "    plt.xlim(-90, 90)\n",
    "\n",
    "    plt.ylabel('Cloudiness (%)', fontsize=(15));\n",
    "\n",
    "    plt.xlabel('Latitude', fontsize=(15));\n",
    "\n",
    "    df_countries_table.groupby(['Latitude'])['Wind Speed (mph)'].mean().reset_index().style.background_gradient(cmap=cm)\n",
    "\n",
    "    plt.figure(figsize=(18, 5))\n",
    "\n",
    "    plt.scatter(df_countries['Latitude'], df_countries['Wind Speed (mph)'], color='red', s=20);\n",
    "\n",
    "    plt.xlim(-90, 90)\n",
    "\n",
    "    plt.title('Wind Speed (mph) vs. Latitude', fontsize=(18));\n",
    "\n",
    "    plt.ylabel('Temperature Wind Speed (mph)', fontsize=(15));\n",
    "\n",
    "    plt.xlabel('Latitude', fontsize=(15));\n",
    "\n",
    "    print(\"The average wind speed is {} mph for all randomly selected cities\".format(\n",
    "\n",
    "        df_countries['Wind Speed (mph)'].mean()))\n",
    "                               "
   ]
  }
 ],
 "metadata": {
  "kernelspec": {
   "display_name": "Python 3 (ipykernel)",
   "language": "python",
   "name": "python3"
  }
 },
 "nbformat": 4,
 "nbformat_minor": 5
}
